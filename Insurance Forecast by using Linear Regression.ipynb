{
 "cells": [
  {
   "cell_type": "markdown",
   "metadata": {},
   "source": [
    "## Medical Cost Personal Datasets\n",
    "## Insurance Forecast by using Linear Regression"
   ]
  },
  {
   "cell_type": "markdown",
   "metadata": {},
   "source": [
    "## Content\n",
    "Columns - age: age of primary beneficiary\n",
    "\n",
    "sex: insurance contractor gender, female, male\n",
    "\n",
    "bmi: Body mass index, providing an understanding of body, weights that are relatively high or low relative to height, objective index of body weight (kg / m ^ 2) using the ratio of height to weight, ideally 18.5 to 24.9\n",
    "\n",
    "children: Number of children covered by health insurance / Number of dependents\n",
    "\n",
    "smoker: Smoking\n",
    "\n",
    "region: the beneficiary's residential area in the US, northeast, southeast, southwest, northwest.\n",
    "\n",
    "charges: Individual medical costs billed by health insurance"
   ]
  },
  {
   "cell_type": "code",
   "execution_count": 1,
   "metadata": {},
   "outputs": [],
   "source": [
    "# linear algebra\n",
    "import numpy as np \n",
    "# data processing\n",
    "import pandas as pd \n",
    "# data visualization\n",
    "import seaborn as sns\n",
    "%matplotlib inline\n",
    "from matplotlib import pyplot as plt\n",
    "from matplotlib import style"
   ]
  },
  {
   "cell_type": "code",
   "execution_count": 2,
   "metadata": {},
   "outputs": [
    {
     "data": {
      "text/html": [
       "<div>\n",
       "<style scoped>\n",
       "    .dataframe tbody tr th:only-of-type {\n",
       "        vertical-align: middle;\n",
       "    }\n",
       "\n",
       "    .dataframe tbody tr th {\n",
       "        vertical-align: top;\n",
       "    }\n",
       "\n",
       "    .dataframe thead th {\n",
       "        text-align: right;\n",
       "    }\n",
       "</style>\n",
       "<table border=\"1\" class=\"dataframe\">\n",
       "  <thead>\n",
       "    <tr style=\"text-align: right;\">\n",
       "      <th></th>\n",
       "      <th>age</th>\n",
       "      <th>sex</th>\n",
       "      <th>bmi</th>\n",
       "      <th>children</th>\n",
       "      <th>smoker</th>\n",
       "      <th>region</th>\n",
       "      <th>charges</th>\n",
       "    </tr>\n",
       "  </thead>\n",
       "  <tbody>\n",
       "    <tr>\n",
       "      <th>0</th>\n",
       "      <td>19</td>\n",
       "      <td>female</td>\n",
       "      <td>27.900</td>\n",
       "      <td>0</td>\n",
       "      <td>yes</td>\n",
       "      <td>southwest</td>\n",
       "      <td>16884.92400</td>\n",
       "    </tr>\n",
       "    <tr>\n",
       "      <th>1</th>\n",
       "      <td>18</td>\n",
       "      <td>male</td>\n",
       "      <td>33.770</td>\n",
       "      <td>1</td>\n",
       "      <td>no</td>\n",
       "      <td>southeast</td>\n",
       "      <td>1725.55230</td>\n",
       "    </tr>\n",
       "    <tr>\n",
       "      <th>2</th>\n",
       "      <td>28</td>\n",
       "      <td>male</td>\n",
       "      <td>33.000</td>\n",
       "      <td>3</td>\n",
       "      <td>no</td>\n",
       "      <td>southeast</td>\n",
       "      <td>4449.46200</td>\n",
       "    </tr>\n",
       "    <tr>\n",
       "      <th>3</th>\n",
       "      <td>33</td>\n",
       "      <td>male</td>\n",
       "      <td>22.705</td>\n",
       "      <td>0</td>\n",
       "      <td>no</td>\n",
       "      <td>northwest</td>\n",
       "      <td>21984.47061</td>\n",
       "    </tr>\n",
       "    <tr>\n",
       "      <th>4</th>\n",
       "      <td>32</td>\n",
       "      <td>male</td>\n",
       "      <td>28.880</td>\n",
       "      <td>0</td>\n",
       "      <td>no</td>\n",
       "      <td>northwest</td>\n",
       "      <td>3866.85520</td>\n",
       "    </tr>\n",
       "  </tbody>\n",
       "</table>\n",
       "</div>"
      ],
      "text/plain": [
       "   age     sex     bmi  children smoker     region      charges\n",
       "0   19  female  27.900         0    yes  southwest  16884.92400\n",
       "1   18    male  33.770         1     no  southeast   1725.55230\n",
       "2   28    male  33.000         3     no  southeast   4449.46200\n",
       "3   33    male  22.705         0     no  northwest  21984.47061\n",
       "4   32    male  28.880         0     no  northwest   3866.85520"
      ]
     },
     "execution_count": 2,
     "metadata": {},
     "output_type": "execute_result"
    }
   ],
   "source": [
    "# read dataset:\n",
    "data = pd.read_csv(\"C:/Users/Admin/Downloads/insurance.csv\")\n",
    "data.head()"
   ]
  },
  {
   "cell_type": "code",
   "execution_count": 3,
   "metadata": {},
   "outputs": [
    {
     "data": {
      "text/plain": [
       "(1338, 7)"
      ]
     },
     "execution_count": 3,
     "metadata": {},
     "output_type": "execute_result"
    }
   ],
   "source": [
    "# shape of data how many raws and columns:\n",
    "data.shape # 1338 = raws and 7 = columns"
   ]
  },
  {
   "cell_type": "code",
   "execution_count": 4,
   "metadata": {},
   "outputs": [
    {
     "data": {
      "text/plain": [
       "age         0\n",
       "sex         0\n",
       "bmi         0\n",
       "children    0\n",
       "smoker      0\n",
       "region      0\n",
       "charges     0\n",
       "dtype: int64"
      ]
     },
     "execution_count": 4,
     "metadata": {},
     "output_type": "execute_result"
    }
   ],
   "source": [
    "# checking null values\n",
    "data.isnull().sum()"
   ]
  },
  {
   "cell_type": "code",
   "execution_count": 5,
   "metadata": {},
   "outputs": [
    {
     "data": {
      "text/plain": [
       "<matplotlib.axes._subplots.AxesSubplot at 0x29dbcf423c8>"
      ]
     },
     "execution_count": 5,
     "metadata": {},
     "output_type": "execute_result"
    },
    {
     "data": {
      "image/png": "[encoded data removed]",
      "text/plain": [
       "<Figure size 432x288 with 1 Axes>"
      ]
     },
     "metadata": {
      "needs_background": "light"
     },
     "output_type": "display_data"
    }
   ],
   "source": [
    "# how many male and female\n",
    "sns.countplot(data['sex'])"
   ]
  },
  {
   "cell_type": "code",
   "execution_count": 6,
   "metadata": {},
   "outputs": [
    {
     "data": {
      "text/plain": [
       "<matplotlib.axes._subplots.AxesSubplot at 0x29dbd237588>"
      ]
     },
     "execution_count": 6,
     "metadata": {},
     "output_type": "execute_result"
    },
    {
     "data": {
      "image/png": "[encoded data removed]",
      "text/plain": [
       "<Figure size 432x288 with 1 Axes>"
      ]
     },
     "metadata": {
      "needs_background": "light"
     },
     "output_type": "display_data"
    }
   ],
   "source": [
    "# how many region in dataset\n",
    "sns.countplot(data['region'])"
   ]
  },
  {
   "cell_type": "code",
   "execution_count": 7,
   "metadata": {},
   "outputs": [
    {
     "data": {
      "text/plain": [
       "<matplotlib.axes._subplots.AxesSubplot at 0x29dbd2b2898>"
      ]
     },
     "execution_count": 7,
     "metadata": {},
     "output_type": "execute_result"
    },
    {
     "data": {
      "image/png": "[encoded data removed]",
      "text/plain": [
       "<Figure size 432x288 with 1 Axes>"
      ]
     },
     "metadata": {
      "needs_background": "light"
     },
     "output_type": "display_data"
    }
   ],
   "source": [
    "# divide smoker or not\n",
    "sns.countplot(data['smoker'])"
   ]
  },
  {
   "cell_type": "code",
   "execution_count": 8,
   "metadata": {},
   "outputs": [],
   "source": [
    "# Label encoding:\n",
    "# categories data convert into numerical using Label encoding and removing duplicates.\n",
    "from sklearn.preprocessing import LabelEncoder\n",
    "#sex\n",
    "lable_encoder = LabelEncoder()\n",
    "lable_encoder.fit(data.sex.drop_duplicates()) \n",
    "data.sex = lable_encoder.transform(data.sex)\n",
    "# smoker or not\n",
    "lable_encoder.fit(data.smoker.drop_duplicates()) \n",
    "data.smoker = lable_encoder.transform(data.smoker)\n",
    "#region\n",
    "lable_encoder.fit(data.region.drop_duplicates()) \n",
    "data.region = lable_encoder.transform(data.region)"
   ]
  },
  {
   "cell_type": "code",
   "execution_count": 9,
   "metadata": {},
   "outputs": [
    {
     "data": {
      "text/html": [
       "<div>\n",
       "<style scoped>\n",
       "    .dataframe tbody tr th:only-of-type {\n",
       "        vertical-align: middle;\n",
       "    }\n",
       "\n",
       "    .dataframe tbody tr th {\n",
       "        vertical-align: top;\n",
       "    }\n",
       "\n",
       "    .dataframe thead th {\n",
       "        text-align: right;\n",
       "    }\n",
       "</style>\n",
       "<table border=\"1\" class=\"dataframe\">\n",
       "  <thead>\n",
       "    <tr style=\"text-align: right;\">\n",
       "      <th></th>\n",
       "      <th>age</th>\n",
       "      <th>sex</th>\n",
       "      <th>bmi</th>\n",
       "      <th>children</th>\n",
       "      <th>smoker</th>\n",
       "      <th>region</th>\n",
       "      <th>charges</th>\n",
       "    </tr>\n",
       "  </thead>\n",
       "  <tbody>\n",
       "    <tr>\n",
       "      <th>0</th>\n",
       "      <td>19</td>\n",
       "      <td>0</td>\n",
       "      <td>27.900</td>\n",
       "      <td>0</td>\n",
       "      <td>1</td>\n",
       "      <td>3</td>\n",
       "      <td>16884.92400</td>\n",
       "    </tr>\n",
       "    <tr>\n",
       "      <th>1</th>\n",
       "      <td>18</td>\n",
       "      <td>1</td>\n",
       "      <td>33.770</td>\n",
       "      <td>1</td>\n",
       "      <td>0</td>\n",
       "      <td>2</td>\n",
       "      <td>1725.55230</td>\n",
       "    </tr>\n",
       "    <tr>\n",
       "      <th>2</th>\n",
       "      <td>28</td>\n",
       "      <td>1</td>\n",
       "      <td>33.000</td>\n",
       "      <td>3</td>\n",
       "      <td>0</td>\n",
       "      <td>2</td>\n",
       "      <td>4449.46200</td>\n",
       "    </tr>\n",
       "    <tr>\n",
       "      <th>3</th>\n",
       "      <td>33</td>\n",
       "      <td>1</td>\n",
       "      <td>22.705</td>\n",
       "      <td>0</td>\n",
       "      <td>0</td>\n",
       "      <td>1</td>\n",
       "      <td>21984.47061</td>\n",
       "    </tr>\n",
       "    <tr>\n",
       "      <th>4</th>\n",
       "      <td>32</td>\n",
       "      <td>1</td>\n",
       "      <td>28.880</td>\n",
       "      <td>0</td>\n",
       "      <td>0</td>\n",
       "      <td>1</td>\n",
       "      <td>3866.85520</td>\n",
       "    </tr>\n",
       "  </tbody>\n",
       "</table>\n",
       "</div>"
      ],
      "text/plain": [
       "   age  sex     bmi  children  smoker  region      charges\n",
       "0   19    0  27.900         0       1       3  16884.92400\n",
       "1   18    1  33.770         1       0       2   1725.55230\n",
       "2   28    1  33.000         3       0       2   4449.46200\n",
       "3   33    1  22.705         0       0       1  21984.47061\n",
       "4   32    1  28.880         0       0       1   3866.85520"
      ]
     },
     "execution_count": 9,
     "metadata": {},
     "output_type": "execute_result"
    }
   ],
   "source": [
    "data.head()"
   ]
  },
  {
   "cell_type": "markdown",
   "metadata": {},
   "source": [
    "Let's pay attention to children. First, let's see how many children our patients have.\n"
   ]
  },
  {
   "cell_type": "code",
   "execution_count": 10,
   "metadata": {},
   "outputs": [
    {
     "name": "stderr",
     "output_type": "stream",
     "text": [
      "C:\\Users\\Admin\\.conda\\envs\\nishant\\lib\\site-packages\\seaborn\\categorical.py:3692: UserWarning: The `size` paramter has been renamed to `height`; please update your code.\n",
      "  warnings.warn(msg, UserWarning)\n"
     ]
    },
    {
     "data": {
      "text/plain": [
       "<seaborn.axisgrid.FacetGrid at 0x29dbd30b278>"
      ]
     },
     "execution_count": 10,
     "metadata": {},
     "output_type": "execute_result"
    },
    {
     "data": {
      "image/png": "[encoded data removed]",
      "text/plain": [
       "<Figure size 432x432 with 1 Axes>"
      ]
     },
     "metadata": {
      "needs_background": "light"
     },
     "output_type": "display_data"
    }
   ],
   "source": [
    "# how many children \n",
    "sns.catplot(x=\"children\", kind=\"count\", palette=\"ch:.25\", data=data, size = 6)"
   ]
  },
  {
   "cell_type": "markdown",
   "metadata": {},
   "source": [
    "Most patients do not have children. Perfectly that some have 5 children! Children are happiness:)"
   ]
  },
  {
   "cell_type": "code",
   "execution_count": 11,
   "metadata": {},
   "outputs": [
    {
     "data": {
      "image/png": "[encoded data removed]",
      "text/plain": [
       "<Figure size 864x360 with 1 Axes>"
      ]
     },
     "metadata": {
      "needs_background": "light"
     },
     "output_type": "display_data"
    }
   ],
   "source": [
    "# Distribution of bmi(Body mass index)\n",
    "plt.figure(figsize=(12,5))\n",
    "plt.title(\"Distribution of bmi\")\n",
    "ax = sns.distplot(data[\"bmi\"], color = 'b')"
   ]
  },
  {
   "cell_type": "markdown",
   "metadata": {},
   "source": [
    "The average BMI in patients is 30"
   ]
  },
  {
   "cell_type": "code",
   "execution_count": 12,
   "metadata": {},
   "outputs": [
    {
     "data": {
      "text/plain": [
       "Text(0.5, 1.0, 'Violin plot of Charges vs smoker')"
      ]
     },
     "execution_count": 12,
     "metadata": {},
     "output_type": "execute_result"
    },
    {
     "data": {
      "image/png": "[encoded data removed]",
      "text/plain": [
       "<Figure size 1008x432 with 2 Axes>"
      ]
     },
     "metadata": {
      "needs_background": "light"
     },
     "output_type": "display_data"
    }
   ],
   "source": [
    "# Violin plot: Charges vs sex and Charges vs smoker: \n",
    "# we can see that outliers \n",
    "f = plt.figure(figsize=(14,6))\n",
    "ax = f.add_subplot(121)\n",
    "sns.violinplot(x='sex', y='charges',data=data,palette='Wistia',ax=ax)\n",
    "ax.set_title('Violin plot of Charges vs sex')\n",
    "\n",
    "ax = f.add_subplot(122)\n",
    "sns.violinplot(x='smoker', y='charges',data=data,palette='magma',ax=ax)\n",
    "ax.set_title('Violin plot of Charges vs smoker')"
   ]
  },
  {
   "cell_type": "markdown",
   "metadata": {},
   "source": [
    "From left plot the insurance charge for male and female is approximatley in same range,it is average around 5000 bucks. In right plot the insurance charge for smokers is much wide range compare to non smokers, the average charges for non smoker is approximately 5000 bucks. For smoker the minimum insurance charge is itself 5000 bucks."
   ]
  },
  {
   "cell_type": "code",
   "execution_count": 13,
   "metadata": {},
   "outputs": [
    {
     "data": {
      "text/plain": [
       "Text(0.5, 1.0, 'box plot of charges vs children')"
      ]
     },
     "execution_count": 13,
     "metadata": {},
     "output_type": "execute_result"
    },
    {
     "data": {
      "image/png": "[encoded data removed]",
      "text/plain": [
       "<Figure size 1008x432 with 1 Axes>"
      ]
     },
     "metadata": {
      "needs_background": "light"
     },
     "output_type": "display_data"
    }
   ],
   "source": [
    "# box plot of charges vs children:\n",
    "plt.figure(figsize=(14,6))\n",
    "sns.boxplot(x='children', y='charges',hue='sex',data=data,palette='coolwarm')\n",
    "plt.title('box plot of charges vs children')"
   ]
  },
  {
   "cell_type": "code",
   "execution_count": 14,
   "metadata": {},
   "outputs": [],
   "source": [
    "# import sklearn librabies :\n",
    "from sklearn.linear_model import LinearRegression\n",
    "from sklearn.model_selection import train_test_split\n",
    "from sklearn.preprocessing import PolynomialFeatures\n",
    "from sklearn.metrics import r2_score,mean_squared_error\n",
    "from sklearn.ensemble import RandomForestRegressor\n"
   ]
  },
  {
   "cell_type": "code",
   "execution_count": 15,
   "metadata": {},
   "outputs": [
    {
     "data": {
      "text/plain": [
       "region     -0.006208\n",
       "sex         0.057292\n",
       "children    0.067998\n",
       "bmi         0.198341\n",
       "age         0.299008\n",
       "smoker      0.787251\n",
       "charges     1.000000\n",
       "Name: charges, dtype: float64"
      ]
     },
     "execution_count": 15,
     "metadata": {},
     "output_type": "execute_result"
    }
   ],
   "source": [
    "# correlation \n",
    "data.corr()['charges'].sort_values()"
   ]
  },
  {
   "cell_type": "code",
   "execution_count": 16,
   "metadata": {},
   "outputs": [
    {
     "name": "stdout",
     "output_type": "stream",
     "text": [
      "0.7962732059725786\n"
     ]
    }
   ],
   "source": [
    "x = data.drop(['charges'], axis = 1) # train data  \n",
    "y = data.charges #  target data\n",
    "# spliting data :\n",
    "x_train,x_test,y_train,y_test = train_test_split(x,y, random_state = 0)\n",
    "linear_regression = LinearRegression().fit(x_train,y_train)\n",
    "#predict test and train data:\n",
    "y_train_pred = linear_regression.predict(x_train)\n",
    "y_test_pred = linear_regression.predict(x_test)\n",
    "# score:\n",
    "print(linear_regression.score(x_test,y_test))"
   ]
  },
  {
   "cell_type": "code",
   "execution_count": 17,
   "metadata": {},
   "outputs": [
    {
     "name": "stdout",
     "output_type": "stream",
     "text": [
      "Model slope:  250.53755621469605\n",
      "Model intercept: -11261.138825163942\n"
     ]
    }
   ],
   "source": [
    "print(\"Model slope: \",linear_regression.coef_[0])\n",
    "print(\"Model intercept:\", linear_regression.intercept_)"
   ]
  },
  {
   "cell_type": "code",
   "execution_count": 18,
   "metadata": {},
   "outputs": [
    {
     "name": "stdout",
     "output_type": "stream",
     "text": [
      "rmse: 5663.358417062195\n",
      "r2: 0.7962732059725786\n"
     ]
    }
   ],
   "source": [
    "rmse = np.sqrt(mean_squared_error(y_test,y_test_pred)) # *RMSE ( root mean square error)\n",
    "r2 = r2_score(y_test,y_test_pred) # r^2: R-squared is the proportion of variance explained\n",
    "print('rmse:',rmse)\n",
    "print('r2:',r2) "
   ]
  },
  {
   "cell_type": "code",
   "execution_count": 19,
   "metadata": {},
   "outputs": [
    {
     "data": {
      "text/html": [
       "<div>\n",
       "<style scoped>\n",
       "    .dataframe tbody tr th:only-of-type {\n",
       "        vertical-align: middle;\n",
       "    }\n",
       "\n",
       "    .dataframe tbody tr th {\n",
       "        vertical-align: top;\n",
       "    }\n",
       "\n",
       "    .dataframe thead th {\n",
       "        text-align: right;\n",
       "    }\n",
       "</style>\n",
       "<table border=\"1\" class=\"dataframe\">\n",
       "  <thead>\n",
       "    <tr style=\"text-align: right;\">\n",
       "      <th></th>\n",
       "      <th>age</th>\n",
       "      <th>sex</th>\n",
       "      <th>bmi</th>\n",
       "      <th>children</th>\n",
       "      <th>smoker</th>\n",
       "      <th>region</th>\n",
       "      <th>charges</th>\n",
       "    </tr>\n",
       "  </thead>\n",
       "  <tbody>\n",
       "    <tr>\n",
       "      <th>count</th>\n",
       "      <td>1338.000000</td>\n",
       "      <td>1338.000000</td>\n",
       "      <td>1338.000000</td>\n",
       "      <td>1338.000000</td>\n",
       "      <td>1338.000000</td>\n",
       "      <td>1338.000000</td>\n",
       "      <td>1338.000000</td>\n",
       "    </tr>\n",
       "    <tr>\n",
       "      <th>mean</th>\n",
       "      <td>39.207025</td>\n",
       "      <td>0.505232</td>\n",
       "      <td>30.663397</td>\n",
       "      <td>1.094918</td>\n",
       "      <td>0.204783</td>\n",
       "      <td>1.515695</td>\n",
       "      <td>13270.422265</td>\n",
       "    </tr>\n",
       "    <tr>\n",
       "      <th>std</th>\n",
       "      <td>14.049960</td>\n",
       "      <td>0.500160</td>\n",
       "      <td>6.098187</td>\n",
       "      <td>1.205493</td>\n",
       "      <td>0.403694</td>\n",
       "      <td>1.104885</td>\n",
       "      <td>12110.011237</td>\n",
       "    </tr>\n",
       "    <tr>\n",
       "      <th>min</th>\n",
       "      <td>18.000000</td>\n",
       "      <td>0.000000</td>\n",
       "      <td>15.960000</td>\n",
       "      <td>0.000000</td>\n",
       "      <td>0.000000</td>\n",
       "      <td>0.000000</td>\n",
       "      <td>1121.873900</td>\n",
       "    </tr>\n",
       "    <tr>\n",
       "      <th>25%</th>\n",
       "      <td>27.000000</td>\n",
       "      <td>0.000000</td>\n",
       "      <td>26.296250</td>\n",
       "      <td>0.000000</td>\n",
       "      <td>0.000000</td>\n",
       "      <td>1.000000</td>\n",
       "      <td>4740.287150</td>\n",
       "    </tr>\n",
       "    <tr>\n",
       "      <th>50%</th>\n",
       "      <td>39.000000</td>\n",
       "      <td>1.000000</td>\n",
       "      <td>30.400000</td>\n",
       "      <td>1.000000</td>\n",
       "      <td>0.000000</td>\n",
       "      <td>2.000000</td>\n",
       "      <td>9382.033000</td>\n",
       "    </tr>\n",
       "    <tr>\n",
       "      <th>75%</th>\n",
       "      <td>51.000000</td>\n",
       "      <td>1.000000</td>\n",
       "      <td>34.693750</td>\n",
       "      <td>2.000000</td>\n",
       "      <td>0.000000</td>\n",
       "      <td>2.000000</td>\n",
       "      <td>16639.912515</td>\n",
       "    </tr>\n",
       "    <tr>\n",
       "      <th>max</th>\n",
       "      <td>64.000000</td>\n",
       "      <td>1.000000</td>\n",
       "      <td>53.130000</td>\n",
       "      <td>5.000000</td>\n",
       "      <td>1.000000</td>\n",
       "      <td>3.000000</td>\n",
       "      <td>63770.428010</td>\n",
       "    </tr>\n",
       "  </tbody>\n",
       "</table>\n",
       "</div>"
      ],
      "text/plain": [
       "               age          sex          bmi     children       smoker  \\\n",
       "count  1338.000000  1338.000000  1338.000000  1338.000000  1338.000000   \n",
       "mean     39.207025     0.505232    30.663397     1.094918     0.204783   \n",
       "std      14.049960     0.500160     6.098187     1.205493     0.403694   \n",
       "min      18.000000     0.000000    15.960000     0.000000     0.000000   \n",
       "25%      27.000000     0.000000    26.296250     0.000000     0.000000   \n",
       "50%      39.000000     1.000000    30.400000     1.000000     0.000000   \n",
       "75%      51.000000     1.000000    34.693750     2.000000     0.000000   \n",
       "max      64.000000     1.000000    53.130000     5.000000     1.000000   \n",
       "\n",
       "            region       charges  \n",
       "count  1338.000000   1338.000000  \n",
       "mean      1.515695  13270.422265  \n",
       "std       1.104885  12110.011237  \n",
       "min       0.000000   1121.873900  \n",
       "25%       1.000000   4740.287150  \n",
       "50%       2.000000   9382.033000  \n",
       "75%       2.000000  16639.912515  \n",
       "max       3.000000  63770.428010  "
      ]
     },
     "execution_count": 19,
     "metadata": {},
     "output_type": "execute_result"
    }
   ],
   "source": [
    "data.describe(include ='all') "
   ]
  },
  {
   "cell_type": "code",
   "execution_count": 20,
   "metadata": {},
   "outputs": [
    {
     "name": "stdout",
     "output_type": "stream",
     "text": [
      "0.8846283666147681\n"
     ]
    }
   ],
   "source": [
    "# polynomial regression:\n",
    "X = data.drop(['charges'], axis = 1)# train data  # charges and region column drop beacuse of it is not correlated that much.\n",
    "Y = data.charges\n",
    "\n",
    "\n",
    "quad = PolynomialFeatures (degree = 2)\n",
    "x_quad = quad.fit_transform(X)\n",
    "# spliting data :\n",
    "\n",
    "X_train,X_test,Y_train,Y_test = train_test_split(x_quad,Y, random_state = 0)\n",
    "\n",
    "plr = LinearRegression().fit(X_train,Y_train)\n",
    "#predict test and train data:\n",
    "Y_train_pred = plr.predict(X_train)\n",
    "Y_test_pred = plr.predict(X_test)\n",
    "# score:\n",
    "print(plr.score(X_test,Y_test))\n"
   ]
  },
  {
   "cell_type": "code",
   "execution_count": 21,
   "metadata": {},
   "outputs": [
    {
     "name": "stdout",
     "output_type": "stream",
     "text": [
      "0.8849197344147238\n"
     ]
    }
   ],
   "source": [
    "# polynomial regression:\n",
    "X = data.drop(['charges','region'], axis = 1)# train data  # charges and region column drop beacuse of it is not correlated that much.\n",
    "Y = data.charges\n",
    "\n",
    "\n",
    "quad = PolynomialFeatures (degree = 2)\n",
    "x_quad = quad.fit_transform(X)\n",
    "# spliting data :\n",
    "\n",
    "X_train,X_test,Y_train,Y_test = train_test_split(x_quad,Y, random_state = 0)\n",
    "\n",
    "plr = LinearRegression().fit(X_train,Y_train)\n",
    "#predict test and train data:\n",
    "Y_train_pred = plr.predict(X_train)\n",
    "Y_test_pred = plr.predict(X_test)\n",
    "# score:\n",
    "print(plr.score(X_test,Y_test))\n"
   ]
  },
  {
   "cell_type": "code",
   "execution_count": 22,
   "metadata": {},
   "outputs": [
    {
     "name": "stdout",
     "output_type": "stream",
     "text": [
      "MSE train data: 3729086.094, MSE test data: 19933823.142\n",
      "R2 train data: 0.974, R2 test data: 0.873\n"
     ]
    }
   ],
   "source": [
    "forest = RandomForestRegressor(n_estimators = 100,\n",
    "                              criterion = 'mse',\n",
    "                              random_state = 1)\n",
    "forest.fit(x_train,y_train)\n",
    "#predict test and train data:\n",
    "forest_train_pred = forest.predict(x_train)\n",
    "forest_test_pred = forest.predict(x_test)\n",
    "\n",
    "print('MSE train data: %.3f, MSE test data: %.3f' % (\n",
    "mean_squared_error(y_train,forest_train_pred),\n",
    "mean_squared_error(y_test,forest_test_pred)))\n",
    "print('R2 train data: %.3f, R2 test data: %.3f' % (\n",
    "r2_score(y_train,forest_train_pred),\n",
    "r2_score(y_test,forest_test_pred)))"
   ]
  },
  {
   "cell_type": "code",
   "execution_count": 23,
   "metadata": {},
   "outputs": [
    {
     "data": {
      "image/png": "[encoded data removed]",
      "text/plain": [
       "<Figure size 720x432 with 1 Axes>"
      ]
     },
     "metadata": {
      "needs_background": "light"
     },
     "output_type": "display_data"
    }
   ],
   "source": [
    "plt.figure(figsize=(10,6))\n",
    "\n",
    "plt.scatter(forest_train_pred,forest_train_pred - y_train,\n",
    "          c = 'red', marker = 'o', s = 35, alpha = 0.5,\n",
    "          label = 'Train data')\n",
    "plt.scatter(forest_test_pred,forest_test_pred - y_test,\n",
    "          c = 'c', marker = 'o', s = 35, alpha = 0.7,\n",
    "          label = 'Test data')\n",
    "plt.xlabel('Predicted values')\n",
    "plt.ylabel('Tailings')\n",
    "plt.legend(loc = 'upper left')\n",
    "plt.hlines(y = 0, xmin = 0, xmax = 60000, lw = 2, color = 'yellow')\n",
    "plt.show()"
   ]
  },
  {
   "cell_type": "markdown",
   "metadata": {},
   "source": [
    "Good result. But we see a noticeable retraining of the algorithm on the training data."
   ]
  },
  {
   "cell_type": "code",
   "execution_count": 24,
   "metadata": {},
   "outputs": [
    {
     "name": "stdout",
     "output_type": "stream",
     "text": [
      "                            OLS Regression Results                            \n",
      "==============================================================================\n",
      "Dep. Variable:                charges   R-squared:                       0.828\n",
      "Model:                            OLS   Adj. R-squared:                  0.825\n",
      "Method:                 Least Squares   F-statistic:                     263.1\n",
      "Date:                Thu, 22 Aug 2019   Prob (F-statistic):               0.00\n",
      "Time:                        11:25:16   Log-Likelihood:                -9957.5\n",
      "No. Observations:                1003   AIC:                         1.995e+04\n",
      "Df Residuals:                     984   BIC:                         2.005e+04\n",
      "Df Model:                          18                                         \n",
      "Covariance Type:            nonrobust                                         \n",
      "==============================================================================\n",
      "                 coef    std err          t      P>|t|      [0.025      0.975]\n",
      "------------------------------------------------------------------------------\n",
      "const      -5958.8909   3898.816     -1.528      0.127   -1.36e+04    1692.058\n",
      "x1           -26.6774     94.570     -0.282      0.778    -212.259     158.905\n",
      "x2          -342.0410    891.490     -0.384      0.701   -2091.480    1407.398\n",
      "x3           563.6848    200.893      2.806      0.005     169.458     957.912\n",
      "x4           836.5339    847.614      0.987      0.324    -826.804    2499.872\n",
      "x5         -9504.8144   1128.266     -8.424      0.000   -1.17e+04   -7290.729\n",
      "x6             2.9326      0.989      2.965      0.003       0.992       4.873\n",
      "x7            11.7246     22.848      0.513      0.608     -33.111      56.561\n",
      "x8             1.5148      1.831      0.827      0.408      -2.078       5.107\n",
      "x9             5.3391     10.169      0.525      0.600     -14.616      25.295\n",
      "x10            7.3956     28.887      0.256      0.798     -49.291      64.082\n",
      "x11         -342.0410    891.490     -0.384      0.701   -2091.480    1407.398\n",
      "x12            9.1616     51.728      0.177      0.859     -92.347     110.671\n",
      "x13         -283.3724    265.204     -1.069      0.286    -803.802     237.058\n",
      "x14         -629.8471    806.327     -0.781      0.435   -2212.165     952.471\n",
      "x15           -9.9353      3.030     -3.279      0.001     -15.881      -3.990\n",
      "x16            8.4419     21.734      0.388      0.698     -34.208      51.092\n",
      "x17         1415.4938     63.032     22.457      0.000    1291.801    1539.187\n",
      "x18         -130.1713     97.043     -1.341      0.180    -320.606      60.263\n",
      "x19         -448.3247    347.618     -1.290      0.197   -1130.483     233.833\n",
      "x20        -9504.8144   1128.266     -8.424      0.000   -1.17e+04   -7290.729\n",
      "==============================================================================\n",
      "Omnibus:                      543.698   Durbin-Watson:                   2.040\n",
      "Prob(Omnibus):                  0.000   Jarque-Bera (JB):             3222.446\n",
      "Skew:                           2.532   Prob(JB):                         0.00\n",
      "Kurtosis:                      10.173   Cond. No.                     4.32e+19\n",
      "==============================================================================\n",
      "\n",
      "Warnings:\n",
      "[1] Standard Errors assume that the covariance matrix of the errors is correctly specified.\n",
      "[2] The smallest eigenvalue is 3.63e-30. This might indicate that there are\n",
      "strong multicollinearity problems or that the design matrix is singular.\n"
     ]
    }
   ],
   "source": [
    "# Linear regression, also called Ordinary Least-Squares (OLS)\n",
    "# Statsmodels\n",
    "import statsmodels.api as sm\n",
    "from statsmodels.formula.api import ols\n",
    "res = sm.OLS(y_train, X_train).fit()\n",
    "print(res.summary())"
   ]
  },
  {
   "cell_type": "code",
   "execution_count": 25,
   "metadata": {},
   "outputs": [
    {
     "name": "stdout",
     "output_type": "stream",
     "text": [
      "Parameters:  const   -5958.890870\n",
      "x1        -26.677439\n",
      "x2       -342.040990\n",
      "x3        563.684841\n",
      "x4        836.533884\n",
      "x5      -9504.814350\n",
      "x6          2.932611\n",
      "x7         11.724642\n",
      "x8          1.514775\n",
      "x9          5.339092\n",
      "x10         7.395620\n",
      "x11      -342.040990\n",
      "x12         9.161599\n",
      "x13      -283.372404\n",
      "x14      -629.847064\n",
      "x15        -9.935342\n",
      "x16         8.441911\n",
      "x17      1415.493850\n",
      "x18      -130.171297\n",
      "x19      -448.324744\n",
      "x20     -9504.814350\n",
      "dtype: float64\n",
      "Standard errors:  const    3898.815570\n",
      "x1         94.569947\n",
      "x2        891.489624\n",
      "x3        200.892676\n",
      "x4        847.613524\n",
      "x5       1128.266437\n",
      "x6          0.988984\n",
      "x7         22.847761\n",
      "x8          1.830718\n",
      "x9         10.169013\n",
      "x10        28.886727\n",
      "x11       891.489624\n",
      "x12        51.727521\n",
      "x13       265.203782\n",
      "x14       806.327100\n",
      "x15         3.029593\n",
      "x16        21.733970\n",
      "x17        63.032343\n",
      "x18        97.042685\n",
      "x19       347.618004\n",
      "x20      1128.266437\n",
      "dtype: float64\n",
      "Predicted values:  [ 6732.11071151 12959.96253409  3651.25726279 ...  7088.3105597\n",
      "  2965.22382472  5345.66420927]\n"
     ]
    }
   ],
   "source": [
    "print('Parameters: ', res.params)\n",
    "print('Standard errors: ', res.bse)\n",
    "print('Predicted values: ', res.predict())"
   ]
  },
  {
   "cell_type": "code",
   "execution_count": null,
   "metadata": {},
   "outputs": [],
   "source": []
  },
  {
   "cell_type": "code",
   "execution_count": null,
   "metadata": {},
   "outputs": [],
   "source": []
  },
  {
   "cell_type": "code",
   "execution_count": null,
   "metadata": {},
   "outputs": [],
   "source": []
  }
 ],
 "metadata": {
  "kernelspec": {
   "display_name": "Python 3",
   "language": "python",
   "name": "python3"
  },
  "language_info": {
   "codemirror_mode": {
    "name": "ipython",
    "version": 3
   },
   "file_extension": ".py",
   "mimetype": "text/x-python",
   "name": "python",
   "nbconvert_exporter": "python",
   "pygments_lexer": "ipython3",
   "version": "3.7.3"
  }
 },
 "nbformat": 4,
 "nbformat_minor": 2
}
